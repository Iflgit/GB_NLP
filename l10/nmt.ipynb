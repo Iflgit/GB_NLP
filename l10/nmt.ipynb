{
 "cells": [
  {
   "cell_type": "markdown",
   "metadata": {
    "id": "J0Qjg6vuaHNt"
   },
   "source": [
    "# Neural machine translation"
   ]
  },
  {
   "cell_type": "code",
   "execution_count": 1,
   "metadata": {
    "id": "tnxXKDjq3jEL"
   },
   "outputs": [],
   "source": [
    "import tensorflow as tf\n",
    "\n",
    "import matplotlib.pyplot as plt\n",
    "import matplotlib.ticker as ticker\n",
    "from sklearn.model_selection import train_test_split\n",
    "\n",
    "import unicodedata\n",
    "import re\n",
    "import numpy as np\n",
    "import os\n",
    "import io\n",
    "import time"
   ]
  },
  {
   "cell_type": "markdown",
   "metadata": {
    "id": "wfodePkj3jEa"
   },
   "source": [
    "## Download and prepare the dataset\n",
    "\n",
    "We'll use a language dataset provided by http://www.manythings.org/anki/"
   ]
  },
  {
   "cell_type": "code",
   "execution_count": 5,
   "metadata": {
    "colab": {
     "base_uri": "https://localhost:8080/"
    },
    "executionInfo": {
     "elapsed": 5156,
     "status": "ok",
     "timestamp": 1619789089261,
     "user": {
      "displayName": "Roman Zakharov",
      "photoUrl": "",
      "userId": "18255168926005506833"
     },
     "user_tz": -180
    },
    "id": "CNvjhDyAKk3U",
    "outputId": "3166c525-fc56-4fd1-92b2-2f1ac4ac18a6"
   },
   "outputs": [
    {
     "name": "stderr",
     "output_type": "stream",
     "text": [
      "  % Total    % Received % Xferd  Average Speed   Time    Time     Time  Current\n",
      "                                 Dload  Upload   Total   Spent    Left  Speed\n",
      "\n",
      "  0     0    0     0    0     0      0      0 --:--:-- --:--:-- --:--:--     0\n",
      "  0 13.7M    0 41928    0     0  41928      0  0:05:43  0:00:01  0:05:42 35774\n",
      "  4 13.7M    4  634k    0     0   634k      0  0:00:22  0:00:01  0:00:21  335k\n",
      " 17 13.7M   17 2517k    0     0  1258k      0  0:00:11  0:00:02  0:00:09  870k\n",
      " 48 13.7M   48 6743k    0     0  2247k      0  0:00:06  0:00:03  0:00:03 1733k\n",
      " 96 13.7M   96 13.2M    0     0  3394k      0  0:00:04  0:00:04 --:--:-- 2776k\n",
      "100 13.7M  100 13.7M    0     0  3512k      0  0:00:04  0:00:04 --:--:-- 3720k\n"
     ]
    }
   ],
   "source": [
    "!curl http://www.manythings.org/anki/rus-eng.zip -o rus-eng.zip"
   ]
  },
  {
   "cell_type": "code",
   "execution_count": 7,
   "metadata": {
    "colab": {
     "base_uri": "https://localhost:8080/"
    },
    "executionInfo": {
     "elapsed": 1813,
     "status": "ok",
     "timestamp": 1619789098992,
     "user": {
      "displayName": "Roman Zakharov",
      "photoUrl": "",
      "userId": "18255168926005506833"
     },
     "user_tz": -180
    },
    "id": "83bg17Lr-7XK",
    "outputId": "91ec0134-b351-4d0a-c8ac-215affefed97"
   },
   "outputs": [
    {
     "name": "stderr",
     "output_type": "stream",
     "text": [
      "A subdirectory or file rus-eng already exists.\n",
      "'unzip' is not recognized as an internal or external command,\n",
      "operable program or batch file.\n"
     ]
    }
   ],
   "source": [
    "!mkdir rus-eng\n",
    "!unzip rus-eng.zip -d rus-eng/"
   ]
  },
  {
   "cell_type": "code",
   "execution_count": 9,
   "metadata": {},
   "outputs": [
    {
     "name": "stderr",
     "output_type": "stream",
     "text": [
      "'Expand-Archive' is not recognized as an internal or external command,\n",
      "operable program or batch file.\n"
     ]
    }
   ],
   "source": [
    "!Expand-Archive rus-eng.zip rus-eng/"
   ]
  },
  {
   "cell_type": "code",
   "execution_count": 17,
   "metadata": {
    "colab": {
     "base_uri": "https://localhost:8080/"
    },
    "executionInfo": {
     "elapsed": 1166,
     "status": "ok",
     "timestamp": 1619789101916,
     "user": {
      "displayName": "Roman Zakharov",
      "photoUrl": "",
      "userId": "18255168926005506833"
     },
     "user_tz": -180
    },
    "id": "7o5L92efMMhf",
    "outputId": "6ac53232-05f5-449b-8cfc-e0dda693d57f"
   },
   "outputs": [
    {
     "name": "stdout",
     "output_type": "stream",
     "text": [
      " Volume in drive C has no label.\n",
      " Volume Serial Number is 205C-D26E\n",
      "\n",
      " Directory of C:\\Users\\Ifl\\Documents\\GitHub\\GB_NLP\\l10\\rus-eng\n",
      "\n",
      "16.10.2021  20:17    <DIR>          .\n",
      "16.10.2021  20:17    <DIR>          ..\n",
      "14.07.2021  10:16        71ÿ485ÿ809 rus.txt\n",
      "14.07.2021  10:16             1ÿ441 _about.txt\n",
      "               2 File(s)     71ÿ487ÿ250 bytes\n",
      "               2 Dir(s)  60ÿ790ÿ181ÿ888 bytes free\n"
     ]
    }
   ],
   "source": [
    "!dir \"./rus-eng/\""
   ]
  },
  {
   "cell_type": "code",
   "execution_count": 18,
   "metadata": {
    "id": "kRVATYOgJs1b"
   },
   "outputs": [],
   "source": [
    "# Download the file\n",
    "path_to_file = \"./rus-eng/rus.txt\""
   ]
  },
  {
   "cell_type": "code",
   "execution_count": 19,
   "metadata": {
    "id": "rd0jw-eC3jEh"
   },
   "outputs": [],
   "source": [
    "def preprocess_sentence(w):\n",
    "  w = w.lower().strip()\n",
    "\n",
    "  # creating a space between a word and the punctuation following it\n",
    "  # eg: \"he is a boy.\" => \"he is a boy .\"\n",
    "  # Reference:- https://stackoverflow.com/questions/3645931/python-padding-punctuation-with-white-spaces-keeping-punctuation\n",
    "  w = re.sub(r\"([?.!,])\", r\" \\1 \", w)\n",
    "  w = re.sub(r'[\" \"]+', \" \", w)\n",
    "\n",
    "  # replacing everything with space except (a-z, A-Z, \".\", \"?\", \"!\", \",\")\n",
    "  w = re.sub(r\"[^a-zA-Zа-яА-Я?.!,']+\", \" \", w)\n",
    "\n",
    "  w = w.strip()\n",
    "\n",
    "  # adding a start and an end token to the sentence\n",
    "  # so that the model know when to start and stop predicting.\n",
    "  w = '<start> ' + w + ' <end>'\n",
    "  return w"
   ]
  },
  {
   "cell_type": "code",
   "execution_count": 20,
   "metadata": {
    "colab": {
     "base_uri": "https://localhost:8080/",
     "height": 35
    },
    "executionInfo": {
     "elapsed": 865,
     "status": "ok",
     "timestamp": 1619789112313,
     "user": {
      "displayName": "Roman Zakharov",
      "photoUrl": "",
      "userId": "18255168926005506833"
     },
     "user_tz": -180
    },
    "id": "yV9lZXQXNbnH",
    "outputId": "2f509965-ecec-4988-cffa-09ab9f954f13"
   },
   "outputs": [
    {
     "data": {
      "text/plain": [
       "\"<start> i can't go . <end>\""
      ]
     },
     "execution_count": 20,
     "metadata": {},
     "output_type": "execute_result"
    }
   ],
   "source": [
    "preprocess_sentence(\"I can't go.\")"
   ]
  },
  {
   "cell_type": "code",
   "execution_count": 21,
   "metadata": {
    "id": "OHn4Dct23jEm"
   },
   "outputs": [],
   "source": [
    "# 1. Remove the accents\n",
    "# 2. Clean the sentences\n",
    "# 3. Return word pairs in the format: [ENG, RUS]\n",
    "def create_dataset(path, num_examples):\n",
    "  lines = io.open(path, encoding='UTF-8').read().strip().split('\\n')\n",
    "\n",
    "  word_pairs = [[preprocess_sentence(w) for w in l.split('\\t')[:2]]  for l in lines[:num_examples]]\n",
    "\n",
    "  return zip(*word_pairs)"
   ]
  },
  {
   "cell_type": "code",
   "execution_count": 22,
   "metadata": {
    "colab": {
     "base_uri": "https://localhost:8080/"
    },
    "executionInfo": {
     "elapsed": 12954,
     "status": "ok",
     "timestamp": 1619808083270,
     "user": {
      "displayName": "Roman Zakharov",
      "photoUrl": "",
      "userId": "18255168926005506833"
     },
     "user_tz": -180
    },
    "id": "cTbSbBz55QtF",
    "outputId": "5a5b0b4e-da16-4483-8e56-5e07fd79f0bf"
   },
   "outputs": [
    {
     "name": "stdout",
     "output_type": "stream",
     "text": [
      "<start> go . <end>\n",
      "<start> марш ! <end>\n"
     ]
    }
   ],
   "source": [
    "en, ru = create_dataset(path_to_file, None)\n",
    "print(en[0])\n",
    "print(ru[0])"
   ]
  },
  {
   "cell_type": "code",
   "execution_count": 23,
   "metadata": {
    "id": "bIOn8RCNDJXG"
   },
   "outputs": [],
   "source": [
    "def tokenize(lang):\n",
    "  lang_tokenizer = tf.keras.preprocessing.text.Tokenizer(\n",
    "      filters='')\n",
    "  lang_tokenizer.fit_on_texts(lang)\n",
    "\n",
    "  tensor = lang_tokenizer.texts_to_sequences(lang)\n",
    "\n",
    "  tensor = tf.keras.preprocessing.sequence.pad_sequences(tensor,\n",
    "                                                         padding='post')\n",
    "\n",
    "  return tensor, lang_tokenizer"
   ]
  },
  {
   "cell_type": "code",
   "execution_count": 24,
   "metadata": {
    "id": "eAY9k49G3jE_"
   },
   "outputs": [],
   "source": [
    "def load_dataset(path, num_examples=None):\n",
    "  # creating cleaned input, output pairs\n",
    "  targ_lang, inp_lang = create_dataset(path, num_examples)\n",
    "\n",
    "  input_tensor, inp_lang_tokenizer = tokenize(inp_lang)\n",
    "  target_tensor, targ_lang_tokenizer = tokenize(targ_lang)\n",
    "\n",
    "  return input_tensor, target_tensor, inp_lang_tokenizer, targ_lang_tokenizer"
   ]
  },
  {
   "cell_type": "markdown",
   "metadata": {
    "id": "GOi42V79Ydlr"
   },
   "source": [
    "### Limit the size of the dataset to experiment faster (optional)\n"
   ]
  },
  {
   "cell_type": "code",
   "execution_count": 25,
   "metadata": {
    "colab": {
     "base_uri": "https://localhost:8080/"
    },
    "executionInfo": {
     "elapsed": 1074,
     "status": "ok",
     "timestamp": 1619789980135,
     "user": {
      "displayName": "Roman Zakharov",
      "photoUrl": "",
      "userId": "18255168926005506833"
     },
     "user_tz": -180
    },
    "id": "C8j9g9AnIeZV",
    "outputId": "510da3ec-5a6d-49b9-a0da-29c693f1aec5"
   },
   "outputs": [
    {
     "data": {
      "text/plain": [
       "(431097, 431097)"
      ]
     },
     "execution_count": 25,
     "metadata": {},
     "output_type": "execute_result"
    }
   ],
   "source": [
    "len(en), len(ru)"
   ]
  },
  {
   "cell_type": "code",
   "execution_count": 26,
   "metadata": {
    "id": "cnxC7q-j3jFD"
   },
   "outputs": [],
   "source": [
    "# Try experimenting with the size of that dataset\n",
    "num_examples = 100000\n",
    "input_tensor, target_tensor, inp_lang, targ_lang = load_dataset(path_to_file, num_examples)\n",
    "\n",
    "# Calculate max_length of the target tensors\n",
    "max_length_targ, max_length_inp = target_tensor.shape[1], input_tensor.shape[1]"
   ]
  },
  {
   "cell_type": "code",
   "execution_count": 27,
   "metadata": {
    "colab": {
     "base_uri": "https://localhost:8080/"
    },
    "executionInfo": {
     "elapsed": 854,
     "status": "ok",
     "timestamp": 1619790003654,
     "user": {
      "displayName": "Roman Zakharov",
      "photoUrl": "",
      "userId": "18255168926005506833"
     },
     "user_tz": -180
    },
    "id": "4QILQkOs3jFG",
    "outputId": "ddc672e5-2231-4985-b550-2dbddd4468b9"
   },
   "outputs": [
    {
     "name": "stdout",
     "output_type": "stream",
     "text": [
      "80000 80000 20000 20000\n"
     ]
    }
   ],
   "source": [
    "# Creating training and validation sets using an 80-20 split\n",
    "input_tensor_train, input_tensor_val, target_tensor_train, target_tensor_val = train_test_split(input_tensor, target_tensor, test_size=0.2)\n",
    "\n",
    "# Show length\n",
    "print(len(input_tensor_train), len(target_tensor_train), len(input_tensor_val), len(target_tensor_val))"
   ]
  },
  {
   "cell_type": "code",
   "execution_count": 28,
   "metadata": {
    "id": "lJPmLZGMeD5q"
   },
   "outputs": [],
   "source": [
    "def convert(lang, tensor):\n",
    "  for t in tensor:\n",
    "    if t!=0:\n",
    "      print (\"%d ----> %s\" % (t, lang.index_word[t]))"
   ]
  },
  {
   "cell_type": "code",
   "execution_count": 29,
   "metadata": {
    "colab": {
     "base_uri": "https://localhost:8080/"
    },
    "executionInfo": {
     "elapsed": 762,
     "status": "ok",
     "timestamp": 1619790005935,
     "user": {
      "displayName": "Roman Zakharov",
      "photoUrl": "",
      "userId": "18255168926005506833"
     },
     "user_tz": -180
    },
    "id": "VXukARTDd7MT",
    "outputId": "a3606064-f48d-4e81-94d5-9c30d5e90ae6"
   },
   "outputs": [
    {
     "name": "stdout",
     "output_type": "stream",
     "text": [
      "Input Language; index to word mapping\n",
      "1 ----> <start>\n",
      "6 ----> том\n",
      "548 ----> сильно\n",
      "2563 ----> напился\n",
      "3 ----> .\n",
      "2 ----> <end>\n",
      "\n",
      "Target Language; index to word mapping\n",
      "1 ----> <start>\n",
      "5 ----> tom\n",
      "67 ----> got\n",
      "48 ----> very\n",
      "246 ----> drunk\n",
      "3 ----> .\n",
      "2 ----> <end>\n"
     ]
    }
   ],
   "source": [
    "print (\"Input Language; index to word mapping\")\n",
    "convert(inp_lang, input_tensor_train[0])\n",
    "print ()\n",
    "print (\"Target Language; index to word mapping\")\n",
    "convert(targ_lang, target_tensor_train[0])"
   ]
  },
  {
   "cell_type": "markdown",
   "metadata": {
    "id": "rgCLkfv5uO3d"
   },
   "source": [
    "### Create a tf.data dataset"
   ]
  },
  {
   "cell_type": "code",
   "execution_count": 30,
   "metadata": {
    "id": "TqHsArVZ3jFS"
   },
   "outputs": [],
   "source": [
    "BUFFER_SIZE = len(input_tensor_train)\n",
    "BATCH_SIZE = 64\n",
    "steps_per_epoch = len(input_tensor_train)//BATCH_SIZE\n",
    "embedding_dim = 300\n",
    "units = 1024\n",
    "vocab_inp_size = len(inp_lang.word_index)+1\n",
    "vocab_tar_size = len(targ_lang.word_index)+1\n",
    "\n",
    "dataset = tf.data.Dataset.from_tensor_slices((input_tensor_train, target_tensor_train)).shuffle(BUFFER_SIZE)\n",
    "dataset = dataset.batch(BATCH_SIZE, drop_remainder=True)"
   ]
  },
  {
   "cell_type": "code",
   "execution_count": 31,
   "metadata": {
    "colab": {
     "base_uri": "https://localhost:8080/"
    },
    "executionInfo": {
     "elapsed": 1279,
     "status": "ok",
     "timestamp": 1619790037553,
     "user": {
      "displayName": "Roman Zakharov",
      "photoUrl": "",
      "userId": "18255168926005506833"
     },
     "user_tz": -180
    },
    "id": "qc6-NK1GtWQt",
    "outputId": "5f42bae2-eefc-492f-f5c5-ad5215d549cf"
   },
   "outputs": [
    {
     "data": {
      "text/plain": [
       "(TensorShape([64, 15]), TensorShape([64, 11]))"
      ]
     },
     "execution_count": 31,
     "metadata": {},
     "output_type": "execute_result"
    }
   ],
   "source": [
    "example_input_batch, example_target_batch = next(iter(dataset))\n",
    "example_input_batch.shape, example_target_batch.shape"
   ]
  },
  {
   "cell_type": "code",
   "execution_count": 32,
   "metadata": {
    "id": "nZ2rI24i3jFg"
   },
   "outputs": [],
   "source": [
    "class Encoder(tf.keras.Model):\n",
    "  def __init__(self, vocab_size, embedding_dim, enc_units, batch_sz):\n",
    "    super(Encoder, self).__init__()\n",
    "    self.batch_sz = batch_sz\n",
    "    self.enc_units = enc_units\n",
    "    self.embedding = tf.keras.layers.Embedding(vocab_size, embedding_dim)\n",
    "    self.gru = tf.keras.layers.GRU(self.enc_units,\n",
    "                                   return_sequences=False,\n",
    "                                   return_state=True,\n",
    "                                   recurrent_initializer='glorot_uniform')\n",
    "    \n",
    "\n",
    "  def call(self, x, hidden):\n",
    "    x = self.embedding(x)\n",
    "    output, state = self.gru(x, initial_state = hidden)\n",
    "    return state\n",
    "\n",
    "  def initialize_hidden_state(self):\n",
    "    return tf.zeros((self.batch_sz, self.enc_units))"
   ]
  },
  {
   "cell_type": "code",
   "execution_count": 33,
   "metadata": {
    "colab": {
     "base_uri": "https://localhost:8080/"
    },
    "executionInfo": {
     "elapsed": 27335,
     "status": "ok",
     "timestamp": 1619790133885,
     "user": {
      "displayName": "Roman Zakharov",
      "photoUrl": "",
      "userId": "18255168926005506833"
     },
     "user_tz": -180
    },
    "id": "60gSVh05Jl6l",
    "outputId": "4eaa568c-966c-4a9b-895d-4d5e22d20e3c"
   },
   "outputs": [
    {
     "name": "stdout",
     "output_type": "stream",
     "text": [
      "Encoder Hidden state shape: (batch size, units) (64, 1024)\n"
     ]
    }
   ],
   "source": [
    "encoder = Encoder(vocab_inp_size, embedding_dim, units, BATCH_SIZE)\n",
    "\n",
    "# sample input\n",
    "sample_hidden = encoder.initialize_hidden_state()\n",
    "sample_hidden = encoder(example_input_batch, sample_hidden)\n",
    "# print ('Encoder output shape: (batch size, sequence length, units) {}'.format(sample_output.shape))\n",
    "print ('Encoder Hidden state shape: (batch size, units) {}'.format(sample_hidden.shape))"
   ]
  },
  {
   "cell_type": "code",
   "execution_count": 34,
   "metadata": {
    "id": "yJ_B3mhW3jFk"
   },
   "outputs": [],
   "source": [
    "class Decoder(tf.keras.Model):\n",
    "  def __init__(self, vocab_size, embedding_dim, dec_units, batch_sz):\n",
    "    super(Decoder, self).__init__()\n",
    "    self.batch_sz = batch_sz\n",
    "    self.dec_units = dec_units\n",
    "    self.embedding = tf.keras.layers.Embedding(vocab_size, embedding_dim)\n",
    "    self.gru = tf.keras.layers.GRU(self.dec_units,\n",
    "                                   return_sequences=True,\n",
    "                                   return_state=True,\n",
    "                                   recurrent_initializer='glorot_uniform')\n",
    "    self.fc = tf.keras.layers.Dense(vocab_size)\n",
    "\n",
    "  def call(self, x, hidden):\n",
    "    # enc_output shape == (batch_size, max_length, hidden_size)\n",
    "\n",
    "    # x shape after passing through embedding == (batch_size, 1, embedding_dim)\n",
    "    x = self.embedding(x)\n",
    "\n",
    "    # x shape after concatenation == (batch_size, 1, embedding_dim + hidden_size)\n",
    "\n",
    "    # passing the concatenated vector to the GRU\n",
    "    output, state = self.gru(x, initial_state=hidden)\n",
    "\n",
    "    # output shape == (batch_size * 1, hidden_size)\n",
    "    output = tf.reshape(output, (-1, output.shape[2]))\n",
    "\n",
    "    # output shape == (batch_size, vocab)\n",
    "    x = self.fc(output)\n",
    "\n",
    "    return x, state"
   ]
  },
  {
   "cell_type": "code",
   "execution_count": 35,
   "metadata": {
    "id": "P5UY8wko3jFp"
   },
   "outputs": [],
   "source": [
    "decoder = Decoder(vocab_tar_size, embedding_dim, units, BATCH_SIZE)\n",
    "\n",
    "decoder_sample_x, decoder_sample_h = decoder(tf.random.uniform((BATCH_SIZE, 1)),\n",
    "                                      sample_hidden)\n",
    "\n"
   ]
  },
  {
   "cell_type": "code",
   "execution_count": 36,
   "metadata": {
    "colab": {
     "base_uri": "https://localhost:8080/"
    },
    "executionInfo": {
     "elapsed": 955,
     "status": "ok",
     "timestamp": 1619791577723,
     "user": {
      "displayName": "Roman Zakharov",
      "photoUrl": "",
      "userId": "18255168926005506833"
     },
     "user_tz": -180
    },
    "id": "XKcypC0AGeLR",
    "outputId": "6f51f5ef-6d92-4933-d202-e2d512cbba37"
   },
   "outputs": [
    {
     "data": {
      "text/plain": [
       "TensorShape([64, 7260])"
      ]
     },
     "execution_count": 36,
     "metadata": {},
     "output_type": "execute_result"
    }
   ],
   "source": [
    "decoder_sample_x.shape"
   ]
  },
  {
   "cell_type": "code",
   "execution_count": 37,
   "metadata": {
    "colab": {
     "base_uri": "https://localhost:8080/"
    },
    "executionInfo": {
     "elapsed": 726,
     "status": "ok",
     "timestamp": 1619791547930,
     "user": {
      "displayName": "Roman Zakharov",
      "photoUrl": "",
      "userId": "18255168926005506833"
     },
     "user_tz": -180
    },
    "id": "6y0HF-zMF_vp",
    "outputId": "69a0893f-61c6-40c5-bce6-5911c3c4355b"
   },
   "outputs": [
    {
     "data": {
      "text/plain": [
       "TensorShape([64, 1024])"
      ]
     },
     "execution_count": 37,
     "metadata": {},
     "output_type": "execute_result"
    }
   ],
   "source": [
    "decoder_sample_h.shape"
   ]
  },
  {
   "cell_type": "markdown",
   "metadata": {
    "id": "_ch_71VbIRfK"
   },
   "source": [
    "## Define the optimizer and the loss function"
   ]
  },
  {
   "cell_type": "code",
   "execution_count": 38,
   "metadata": {
    "id": "WmTHr5iV3jFr"
   },
   "outputs": [],
   "source": [
    "optimizer = tf.keras.optimizers.Adam()\n",
    "\n",
    "loss_object = tf.keras.losses.SparseCategoricalCrossentropy(\n",
    "    from_logits=True, reduction='none')\n",
    "\n",
    "def loss_function(real, pred):\n",
    "  mask = tf.math.logical_not(tf.math.equal(real, 0))\n",
    "  loss_ = loss_object(real, pred)\n",
    "\n",
    "  mask = tf.cast(mask, dtype=loss_.dtype)\n",
    "  loss_ *= mask\n",
    "\n",
    "  return tf.reduce_mean(loss_)"
   ]
  },
  {
   "cell_type": "markdown",
   "metadata": {
    "id": "DMVWzzsfNl4e"
   },
   "source": [
    "## Checkpoints (Object-based saving)"
   ]
  },
  {
   "cell_type": "code",
   "execution_count": 39,
   "metadata": {
    "id": "Zj8bXQTgNwrF"
   },
   "outputs": [],
   "source": [
    "checkpoint_dir = './training_nmt_checkpoints'\n",
    "\n",
    "checkpoint_prefix = os.path.join(checkpoint_dir, \"ckpt\")\n",
    "\n",
    "checkpoint = tf.train.Checkpoint(optimizer=optimizer,\n",
    "                                 encoder=encoder,\n",
    "                                 decoder=decoder)"
   ]
  },
  {
   "cell_type": "code",
   "execution_count": 40,
   "metadata": {
    "id": "sC9ArXSsVfqn"
   },
   "outputs": [],
   "source": [
    "@tf.function\n",
    "def train_step(inp, targ, enc_hidden):\n",
    "  loss = 0\n",
    "\n",
    "  with tf.GradientTape() as tape:\n",
    "    enc_hidden = encoder(inp, enc_hidden)\n",
    "\n",
    "    dec_hidden = enc_hidden\n",
    "\n",
    "    dec_input = tf.expand_dims([targ_lang.word_index['<start>']] * BATCH_SIZE, 1)\n",
    "\n",
    "    # Teacher forcing - feeding the target as the next input\n",
    "    for t in range(1, targ.shape[1]):\n",
    "      # passing enc_output to the decoder\n",
    "      predictions, dec_hidden = decoder(dec_input, dec_hidden)\n",
    "\n",
    "      loss += loss_function(targ[:, t], predictions)\n",
    "\n",
    "      # using teacher forcing\n",
    "      dec_input = tf.expand_dims(targ[:, t], 1)\n",
    "\n",
    "  batch_loss = (loss / int(targ.shape[1]))\n",
    "\n",
    "  variables = encoder.trainable_variables + decoder.trainable_variables\n",
    "\n",
    "  gradients = tape.gradient(loss, variables)\n",
    "\n",
    "  optimizer.apply_gradients(zip(gradients, variables))\n",
    "\n",
    "  return batch_loss"
   ]
  },
  {
   "cell_type": "code",
   "execution_count": 41,
   "metadata": {
    "colab": {
     "base_uri": "https://localhost:8080/"
    },
    "executionInfo": {
     "elapsed": 10943081,
     "status": "ok",
     "timestamp": 1619803077637,
     "user": {
      "displayName": "Roman Zakharov",
      "photoUrl": "",
      "userId": "18255168926005506833"
     },
     "user_tz": -180
    },
    "id": "ddefjBMa3jF0",
    "outputId": "b54245db-e06a-46b0-edc0-fab6afaba17a"
   },
   "outputs": [
    {
     "name": "stdout",
     "output_type": "stream",
     "text": [
      "Epoch 1 Batch 0 Loss 4.6350\n",
      "Epoch 1 Batch 100 Loss 2.1084\n",
      "Epoch 1 Batch 200 Loss 1.7281\n",
      "Epoch 1 Batch 300 Loss 1.7200\n",
      "Epoch 1 Batch 400 Loss 1.6572\n",
      "Epoch 1 Batch 500 Loss 1.4465\n",
      "Epoch 1 Batch 600 Loss 1.5117\n",
      "Epoch 1 Batch 700 Loss 1.3957\n",
      "Epoch 1 Batch 800 Loss 1.3340\n",
      "Epoch 1 Batch 900 Loss 1.2833\n",
      "Epoch 1 Batch 1000 Loss 1.2737\n",
      "Epoch 1 Batch 1100 Loss 1.1699\n",
      "Epoch 1 Batch 1200 Loss 1.1603\n",
      "Epoch 1 Loss 1.5303\n",
      "Time taken for 1 epoch 701.5899829864502 sec\n",
      "\n",
      "Epoch 2 Batch 0 Loss 1.0605\n",
      "Epoch 2 Batch 100 Loss 0.9324\n",
      "Epoch 2 Batch 200 Loss 1.0338\n",
      "Epoch 2 Batch 300 Loss 1.0016\n",
      "Epoch 2 Batch 400 Loss 0.9530\n",
      "Epoch 2 Batch 500 Loss 0.9638\n",
      "Epoch 2 Batch 600 Loss 0.9520\n",
      "Epoch 2 Batch 700 Loss 0.8883\n",
      "Epoch 2 Batch 800 Loss 0.8971\n",
      "Epoch 2 Batch 900 Loss 0.8489\n",
      "Epoch 2 Batch 1000 Loss 0.7748\n",
      "Epoch 2 Batch 1100 Loss 0.8026\n",
      "Epoch 2 Batch 1200 Loss 0.8204\n",
      "Epoch 2 Loss 0.8954\n",
      "Time taken for 1 epoch 718.1259777545929 sec\n",
      "\n",
      "Epoch 3 Batch 0 Loss 0.5892\n",
      "Epoch 3 Batch 100 Loss 0.6179\n",
      "Epoch 3 Batch 200 Loss 0.5387\n",
      "Epoch 3 Batch 300 Loss 0.5920\n",
      "Epoch 3 Batch 400 Loss 0.5863\n",
      "Epoch 3 Batch 500 Loss 0.6203\n",
      "Epoch 3 Batch 600 Loss 0.5551\n",
      "Epoch 3 Batch 700 Loss 0.5477\n",
      "Epoch 3 Batch 800 Loss 0.5261\n",
      "Epoch 3 Batch 900 Loss 0.4993\n",
      "Epoch 3 Batch 1000 Loss 0.4768\n",
      "Epoch 3 Batch 1100 Loss 0.5818\n",
      "Epoch 3 Batch 1200 Loss 0.4134\n",
      "Epoch 3 Loss 0.5730\n",
      "Time taken for 1 epoch 690.6763730049133 sec\n",
      "\n",
      "Epoch 4 Batch 0 Loss 0.3547\n",
      "Epoch 4 Batch 100 Loss 0.3220\n",
      "Epoch 4 Batch 200 Loss 0.4088\n",
      "Epoch 4 Batch 300 Loss 0.3874\n",
      "Epoch 4 Batch 400 Loss 0.3644\n",
      "Epoch 4 Batch 500 Loss 0.3338\n",
      "Epoch 4 Batch 600 Loss 0.3888\n",
      "Epoch 4 Batch 700 Loss 0.3657\n",
      "Epoch 4 Batch 800 Loss 0.3746\n",
      "Epoch 4 Batch 900 Loss 0.3716\n",
      "Epoch 4 Batch 1000 Loss 0.3419\n",
      "Epoch 4 Batch 1100 Loss 0.3826\n",
      "Epoch 4 Batch 1200 Loss 0.2825\n",
      "Epoch 4 Loss 0.3623\n",
      "Time taken for 1 epoch 693.6920917034149 sec\n",
      "\n",
      "Epoch 5 Batch 0 Loss 0.1787\n",
      "Epoch 5 Batch 100 Loss 0.2268\n",
      "Epoch 5 Batch 200 Loss 0.2586\n",
      "Epoch 5 Batch 300 Loss 0.2403\n",
      "Epoch 5 Batch 400 Loss 0.2436\n",
      "Epoch 5 Batch 500 Loss 0.2389\n",
      "Epoch 5 Batch 600 Loss 0.2818\n",
      "Epoch 5 Batch 700 Loss 0.2057\n",
      "Epoch 5 Batch 800 Loss 0.2255\n",
      "Epoch 5 Batch 900 Loss 0.2212\n",
      "Epoch 5 Batch 1000 Loss 0.2599\n",
      "Epoch 5 Batch 1100 Loss 0.2592\n",
      "Epoch 5 Batch 1200 Loss 0.2596\n",
      "Epoch 5 Loss 0.2378\n",
      "Time taken for 1 epoch 732.9155814647675 sec\n",
      "\n",
      "Epoch 6 Batch 0 Loss 0.1607\n",
      "Epoch 6 Batch 100 Loss 0.1661\n",
      "Epoch 6 Batch 200 Loss 0.0951\n",
      "Epoch 6 Batch 300 Loss 0.1909\n",
      "Epoch 6 Batch 400 Loss 0.1400\n",
      "Epoch 6 Batch 500 Loss 0.1404\n",
      "Epoch 6 Batch 600 Loss 0.2127\n",
      "Epoch 6 Batch 700 Loss 0.1748\n",
      "Epoch 6 Batch 800 Loss 0.1377\n",
      "Epoch 6 Batch 900 Loss 0.1775\n",
      "Epoch 6 Batch 1000 Loss 0.2013\n",
      "Epoch 6 Batch 1100 Loss 0.2000\n",
      "Epoch 6 Batch 1200 Loss 0.1556\n",
      "Epoch 6 Loss 0.1693\n",
      "Time taken for 1 epoch 724.3104882240295 sec\n",
      "\n",
      "Epoch 7 Batch 0 Loss 0.1266\n",
      "Epoch 7 Batch 100 Loss 0.1384\n",
      "Epoch 7 Batch 200 Loss 0.1106\n",
      "Epoch 7 Batch 300 Loss 0.0944\n",
      "Epoch 7 Batch 400 Loss 0.1391\n",
      "Epoch 7 Batch 500 Loss 0.1146\n",
      "Epoch 7 Batch 600 Loss 0.1284\n",
      "Epoch 7 Batch 700 Loss 0.1299\n",
      "Epoch 7 Batch 800 Loss 0.1395\n",
      "Epoch 7 Batch 900 Loss 0.1424\n",
      "Epoch 7 Batch 1000 Loss 0.1930\n",
      "Epoch 7 Batch 1100 Loss 0.1477\n",
      "Epoch 7 Batch 1200 Loss 0.1239\n",
      "Epoch 7 Loss 0.1321\n",
      "Time taken for 1 epoch 751.8852205276489 sec\n",
      "\n",
      "Epoch 8 Batch 0 Loss 0.0930\n",
      "Epoch 8 Batch 100 Loss 0.0960\n",
      "Epoch 8 Batch 200 Loss 0.0733\n",
      "Epoch 8 Batch 300 Loss 0.1122\n",
      "Epoch 8 Batch 400 Loss 0.1017\n",
      "Epoch 8 Batch 500 Loss 0.0877\n",
      "Epoch 8 Batch 600 Loss 0.0754\n",
      "Epoch 8 Batch 700 Loss 0.0981\n",
      "Epoch 8 Batch 800 Loss 0.1195\n",
      "Epoch 8 Batch 900 Loss 0.1070\n",
      "Epoch 8 Batch 1000 Loss 0.1280\n",
      "Epoch 8 Batch 1100 Loss 0.1130\n",
      "Epoch 8 Batch 1200 Loss 0.1367\n",
      "Epoch 8 Loss 0.1124\n",
      "Time taken for 1 epoch 751.3989129066467 sec\n",
      "\n",
      "Epoch 9 Batch 0 Loss 0.1086\n",
      "Epoch 9 Batch 100 Loss 0.0900\n",
      "Epoch 9 Batch 200 Loss 0.0888\n",
      "Epoch 9 Batch 300 Loss 0.0872\n",
      "Epoch 9 Batch 400 Loss 0.1040\n",
      "Epoch 9 Batch 500 Loss 0.1339\n",
      "Epoch 9 Batch 600 Loss 0.1136\n",
      "Epoch 9 Batch 700 Loss 0.0879\n",
      "Epoch 9 Batch 800 Loss 0.1054\n",
      "Epoch 9 Batch 900 Loss 0.1318\n",
      "Epoch 9 Batch 1000 Loss 0.1349\n",
      "Epoch 9 Batch 1100 Loss 0.0920\n",
      "Epoch 9 Batch 1200 Loss 0.1026\n",
      "Epoch 9 Loss 0.1017\n",
      "Time taken for 1 epoch 725.2624924182892 sec\n",
      "\n",
      "Epoch 10 Batch 0 Loss 0.0993\n",
      "Epoch 10 Batch 100 Loss 0.0979\n",
      "Epoch 10 Batch 200 Loss 0.1120\n",
      "Epoch 10 Batch 300 Loss 0.0790\n",
      "Epoch 10 Batch 400 Loss 0.0726\n",
      "Epoch 10 Batch 500 Loss 0.1057\n",
      "Epoch 10 Batch 600 Loss 0.0930\n",
      "Epoch 10 Batch 700 Loss 0.0410\n",
      "Epoch 10 Batch 800 Loss 0.1135\n",
      "Epoch 10 Batch 900 Loss 0.0916\n",
      "Epoch 10 Batch 1000 Loss 0.1384\n",
      "Epoch 10 Batch 1100 Loss 0.1233\n",
      "Epoch 10 Batch 1200 Loss 0.1008\n",
      "Epoch 10 Loss 0.0938\n",
      "Time taken for 1 epoch 721.2135810852051 sec\n",
      "\n",
      "Epoch 11 Batch 0 Loss 0.0860\n",
      "Epoch 11 Batch 100 Loss 0.0722\n",
      "Epoch 11 Batch 200 Loss 0.0584\n",
      "Epoch 11 Batch 300 Loss 0.0732\n",
      "Epoch 11 Batch 400 Loss 0.1005\n",
      "Epoch 11 Batch 500 Loss 0.0567\n",
      "Epoch 11 Batch 600 Loss 0.0975\n",
      "Epoch 11 Batch 700 Loss 0.0987\n",
      "Epoch 11 Batch 800 Loss 0.0747\n",
      "Epoch 11 Batch 900 Loss 0.1211\n",
      "Epoch 11 Batch 1000 Loss 0.1296\n",
      "Epoch 11 Batch 1100 Loss 0.0862\n",
      "Epoch 11 Batch 1200 Loss 0.0694\n",
      "Epoch 11 Loss 0.0888\n",
      "Time taken for 1 epoch 701.9909300804138 sec\n",
      "\n",
      "Epoch 12 Batch 0 Loss 0.1038\n",
      "Epoch 12 Batch 100 Loss 0.1282\n",
      "Epoch 12 Batch 200 Loss 0.0976\n",
      "Epoch 12 Batch 300 Loss 0.1026\n",
      "Epoch 12 Batch 400 Loss 0.0811\n",
      "Epoch 12 Batch 500 Loss 0.1189\n",
      "Epoch 12 Batch 600 Loss 0.1072\n",
      "Epoch 12 Batch 700 Loss 0.0728\n",
      "Epoch 12 Batch 800 Loss 0.0581\n",
      "Epoch 12 Batch 900 Loss 0.1000\n",
      "Epoch 12 Batch 1000 Loss 0.1124\n",
      "Epoch 12 Batch 1100 Loss 0.0678\n",
      "Epoch 12 Batch 1200 Loss 0.0965\n",
      "Epoch 12 Loss 0.0848\n",
      "Time taken for 1 epoch 710.6311933994293 sec\n",
      "\n",
      "Epoch 13 Batch 0 Loss 0.0699\n",
      "Epoch 13 Batch 100 Loss 0.0489\n",
      "Epoch 13 Batch 200 Loss 0.0749\n",
      "Epoch 13 Batch 300 Loss 0.0695\n",
      "Epoch 13 Batch 400 Loss 0.0462\n",
      "Epoch 13 Batch 500 Loss 0.0672\n",
      "Epoch 13 Batch 600 Loss 0.1056\n",
      "Epoch 13 Batch 700 Loss 0.0707\n",
      "Epoch 13 Batch 800 Loss 0.0660\n",
      "Epoch 13 Batch 900 Loss 0.0523\n",
      "Epoch 13 Batch 1000 Loss 0.0571\n",
      "Epoch 13 Batch 1100 Loss 0.1255\n",
      "Epoch 13 Batch 1200 Loss 0.0786\n",
      "Epoch 13 Loss 0.0805\n",
      "Time taken for 1 epoch 714.1935820579529 sec\n",
      "\n",
      "Epoch 14 Batch 0 Loss 0.0512\n",
      "Epoch 14 Batch 100 Loss 0.0588\n",
      "Epoch 14 Batch 200 Loss 0.0515\n",
      "Epoch 14 Batch 300 Loss 0.0741\n",
      "Epoch 14 Batch 400 Loss 0.0935\n",
      "Epoch 14 Batch 500 Loss 0.0719\n",
      "Epoch 14 Batch 600 Loss 0.0815\n",
      "Epoch 14 Batch 700 Loss 0.0801\n",
      "Epoch 14 Batch 800 Loss 0.0644\n",
      "Epoch 14 Batch 900 Loss 0.0551\n",
      "Epoch 14 Batch 1000 Loss 0.1099\n",
      "Epoch 14 Batch 1100 Loss 0.1041\n",
      "Epoch 14 Batch 1200 Loss 0.1020\n",
      "Epoch 14 Loss 0.0784\n",
      "Time taken for 1 epoch 711.362142086029 sec\n",
      "\n",
      "Epoch 15 Batch 0 Loss 0.0845\n",
      "Epoch 15 Batch 100 Loss 0.0514\n",
      "Epoch 15 Batch 200 Loss 0.0675\n",
      "Epoch 15 Batch 300 Loss 0.0507\n",
      "Epoch 15 Batch 400 Loss 0.0697\n",
      "Epoch 15 Batch 500 Loss 0.0876\n",
      "Epoch 15 Batch 600 Loss 0.0712\n",
      "Epoch 15 Batch 700 Loss 0.0813\n",
      "Epoch 15 Batch 800 Loss 0.0742\n",
      "Epoch 15 Batch 900 Loss 0.0678\n",
      "Epoch 15 Batch 1000 Loss 0.1067\n",
      "Epoch 15 Batch 1100 Loss 0.1001\n",
      "Epoch 15 Batch 1200 Loss 0.1478\n",
      "Epoch 15 Loss 0.0762\n",
      "Time taken for 1 epoch 707.9767327308655 sec\n",
      "\n",
      "Epoch 16 Batch 0 Loss 0.0509\n",
      "Epoch 16 Batch 100 Loss 0.0848\n",
      "Epoch 16 Batch 200 Loss 0.0500\n",
      "Epoch 16 Batch 300 Loss 0.0678\n",
      "Epoch 16 Batch 400 Loss 0.0546\n",
      "Epoch 16 Batch 500 Loss 0.0732\n",
      "Epoch 16 Batch 600 Loss 0.0759\n",
      "Epoch 16 Batch 700 Loss 0.1493\n",
      "Epoch 16 Batch 800 Loss 0.0652\n",
      "Epoch 16 Batch 900 Loss 0.0788\n",
      "Epoch 16 Batch 1000 Loss 0.0689\n",
      "Epoch 16 Batch 1100 Loss 0.1310\n",
      "Epoch 16 Batch 1200 Loss 0.0809\n",
      "Epoch 16 Loss 0.0747\n",
      "Time taken for 1 epoch 701.6909699440002 sec\n",
      "\n",
      "Epoch 17 Batch 0 Loss 0.0365\n",
      "Epoch 17 Batch 100 Loss 0.0396\n",
      "Epoch 17 Batch 200 Loss 0.0529\n",
      "Epoch 17 Batch 300 Loss 0.0736\n",
      "Epoch 17 Batch 400 Loss 0.0599\n",
      "Epoch 17 Batch 500 Loss 0.1141\n",
      "Epoch 17 Batch 600 Loss 0.0598\n",
      "Epoch 17 Batch 700 Loss 0.0341\n",
      "Epoch 17 Batch 800 Loss 0.1081\n",
      "Epoch 17 Batch 900 Loss 0.1028\n",
      "Epoch 17 Batch 1000 Loss 0.0379\n",
      "Epoch 17 Batch 1100 Loss 0.0756\n",
      "Epoch 17 Batch 1200 Loss 0.0703\n",
      "Epoch 17 Loss 0.0728\n",
      "Time taken for 1 epoch 31911.547731399536 sec\n",
      "\n",
      "Epoch 18 Batch 0 Loss 0.0265\n",
      "Epoch 18 Batch 100 Loss 0.0894\n",
      "Epoch 18 Batch 200 Loss 0.0589\n",
      "Epoch 18 Batch 300 Loss 0.0358\n",
      "Epoch 18 Batch 400 Loss 0.0564\n",
      "Epoch 18 Batch 500 Loss 0.1019\n",
      "Epoch 18 Batch 600 Loss 0.1093\n",
      "Epoch 18 Batch 700 Loss 0.0797\n",
      "Epoch 18 Batch 800 Loss 0.0589\n",
      "Epoch 18 Batch 900 Loss 0.0618\n",
      "Epoch 18 Batch 1000 Loss 0.0839\n"
     ]
    },
    {
     "name": "stdout",
     "output_type": "stream",
     "text": [
      "Epoch 18 Batch 1100 Loss 0.1134\n",
      "Epoch 18 Batch 1200 Loss 0.0631\n",
      "Epoch 18 Loss 0.0713\n",
      "Time taken for 1 epoch 750.8179750442505 sec\n",
      "\n",
      "Epoch 19 Batch 0 Loss 0.0466\n",
      "Epoch 19 Batch 100 Loss 0.0318\n",
      "Epoch 19 Batch 200 Loss 0.0390\n",
      "Epoch 19 Batch 300 Loss 0.0370\n",
      "Epoch 19 Batch 400 Loss 0.0656\n",
      "Epoch 19 Batch 500 Loss 0.0986\n",
      "Epoch 19 Batch 600 Loss 0.0858\n",
      "Epoch 19 Batch 700 Loss 0.0753\n",
      "Epoch 19 Batch 800 Loss 0.0906\n",
      "Epoch 19 Batch 900 Loss 0.0525\n",
      "Epoch 19 Batch 1000 Loss 0.0754\n",
      "Epoch 19 Batch 1100 Loss 0.0668\n",
      "Epoch 19 Batch 1200 Loss 0.0665\n",
      "Epoch 19 Loss 0.0698\n",
      "Time taken for 1 epoch 727.7256755828857 sec\n",
      "\n",
      "Epoch 20 Batch 0 Loss 0.0388\n",
      "Epoch 20 Batch 100 Loss 0.0453\n",
      "Epoch 20 Batch 200 Loss 0.0780\n",
      "Epoch 20 Batch 300 Loss 0.0224\n",
      "Epoch 20 Batch 400 Loss 0.0604\n",
      "Epoch 20 Batch 500 Loss 0.0528\n",
      "Epoch 20 Batch 600 Loss 0.0655\n",
      "Epoch 20 Batch 700 Loss 0.0753\n",
      "Epoch 20 Batch 800 Loss 0.1030\n",
      "Epoch 20 Batch 900 Loss 0.0576\n",
      "Epoch 20 Batch 1000 Loss 0.0690\n",
      "Epoch 20 Batch 1100 Loss 0.1278\n",
      "Epoch 20 Batch 1200 Loss 0.0753\n",
      "Epoch 20 Loss 0.0677\n",
      "Time taken for 1 epoch 735.4937877655029 sec\n",
      "\n",
      "Epoch 21 Batch 0 Loss 0.0579\n",
      "Epoch 21 Batch 100 Loss 0.0952\n",
      "Epoch 21 Batch 200 Loss 0.0596\n",
      "Epoch 21 Batch 300 Loss 0.0559\n",
      "Epoch 21 Batch 400 Loss 0.0615\n",
      "Epoch 21 Batch 500 Loss 0.1029\n",
      "Epoch 21 Batch 600 Loss 0.0785\n",
      "Epoch 21 Batch 700 Loss 0.0729\n",
      "Epoch 21 Batch 800 Loss 0.0342\n",
      "Epoch 21 Batch 900 Loss 0.0628\n",
      "Epoch 21 Batch 1000 Loss 0.0572\n",
      "Epoch 21 Batch 1100 Loss 0.0813\n",
      "Epoch 21 Batch 1200 Loss 0.0838\n",
      "Epoch 21 Loss 0.0667\n",
      "Time taken for 1 epoch 743.7251133918762 sec\n",
      "\n",
      "Epoch 22 Batch 0 Loss 0.0556\n",
      "Epoch 22 Batch 100 Loss 0.0611\n",
      "Epoch 22 Batch 200 Loss 0.0430\n",
      "Epoch 22 Batch 300 Loss 0.0628\n",
      "Epoch 22 Batch 400 Loss 0.0336\n",
      "Epoch 22 Batch 500 Loss 0.0734\n",
      "Epoch 22 Batch 600 Loss 0.0813\n",
      "Epoch 22 Batch 700 Loss 0.0469\n",
      "Epoch 22 Batch 800 Loss 0.0593\n",
      "Epoch 22 Batch 900 Loss 0.0575\n",
      "Epoch 22 Batch 1000 Loss 0.0675\n",
      "Epoch 22 Batch 1100 Loss 0.0863\n",
      "Epoch 22 Batch 1200 Loss 0.1036\n",
      "Epoch 22 Loss 0.0661\n",
      "Time taken for 1 epoch 786.3465518951416 sec\n",
      "\n",
      "Epoch 23 Batch 0 Loss 0.0527\n",
      "Epoch 23 Batch 100 Loss 0.0557\n",
      "Epoch 23 Batch 200 Loss 0.0529\n",
      "Epoch 23 Batch 300 Loss 0.0298\n",
      "Epoch 23 Batch 400 Loss 0.0609\n",
      "Epoch 23 Batch 500 Loss 0.0486\n",
      "Epoch 23 Batch 600 Loss 0.0688\n",
      "Epoch 23 Batch 700 Loss 0.0536\n",
      "Epoch 23 Batch 800 Loss 0.0650\n",
      "Epoch 23 Batch 900 Loss 0.0376\n",
      "Epoch 23 Batch 1000 Loss 0.0701\n",
      "Epoch 23 Batch 1100 Loss 0.0648\n",
      "Epoch 23 Batch 1200 Loss 0.0751\n",
      "Epoch 23 Loss 0.0646\n",
      "Time taken for 1 epoch 783.219658613205 sec\n",
      "\n",
      "Epoch 24 Batch 0 Loss 0.0468\n",
      "Epoch 24 Batch 100 Loss 0.0819\n",
      "Epoch 24 Batch 200 Loss 0.0870\n",
      "Epoch 24 Batch 300 Loss 0.0422\n",
      "Epoch 24 Batch 400 Loss 0.0546\n",
      "Epoch 24 Batch 500 Loss 0.0832\n",
      "Epoch 24 Batch 600 Loss 0.0814\n",
      "Epoch 24 Batch 700 Loss 0.0953\n",
      "Epoch 24 Batch 800 Loss 0.0969\n",
      "Epoch 24 Batch 900 Loss 0.0465\n",
      "Epoch 24 Batch 1000 Loss 0.0417\n",
      "Epoch 24 Batch 1100 Loss 0.1370\n",
      "Epoch 24 Batch 1200 Loss 0.1174\n",
      "Epoch 24 Loss 0.0635\n",
      "Time taken for 1 epoch 791.7693784236908 sec\n",
      "\n",
      "Epoch 25 Batch 0 Loss 0.0704\n",
      "Epoch 25 Batch 100 Loss 0.0146\n",
      "Epoch 25 Batch 200 Loss 0.0556\n",
      "Epoch 25 Batch 300 Loss 0.0796\n",
      "Epoch 25 Batch 400 Loss 0.0201\n",
      "Epoch 25 Batch 500 Loss 0.0323\n",
      "Epoch 25 Batch 600 Loss 0.0643\n",
      "Epoch 25 Batch 700 Loss 0.0298\n",
      "Epoch 25 Batch 800 Loss 0.1240\n",
      "Epoch 25 Batch 900 Loss 0.0576\n",
      "Epoch 25 Batch 1000 Loss 0.0651\n",
      "Epoch 25 Batch 1100 Loss 0.0818\n",
      "Epoch 25 Batch 1200 Loss 0.0713\n",
      "Epoch 25 Loss 0.0628\n",
      "Time taken for 1 epoch 789.4936888217926 sec\n",
      "\n",
      "Epoch 26 Batch 0 Loss 0.0513\n",
      "Epoch 26 Batch 100 Loss 0.0374\n",
      "Epoch 26 Batch 200 Loss 0.0623\n",
      "Epoch 26 Batch 300 Loss 0.0433\n",
      "Epoch 26 Batch 400 Loss 0.0700\n",
      "Epoch 26 Batch 500 Loss 0.0577\n",
      "Epoch 26 Batch 600 Loss 0.0635\n",
      "Epoch 26 Batch 700 Loss 0.0458\n",
      "Epoch 26 Batch 800 Loss 0.0746\n",
      "Epoch 26 Batch 900 Loss 0.0558\n",
      "Epoch 26 Batch 1000 Loss 0.0788\n",
      "Epoch 26 Batch 1100 Loss 0.0899\n",
      "Epoch 26 Batch 1200 Loss 0.0458\n",
      "Epoch 26 Loss 0.0619\n",
      "Time taken for 1 epoch 686.8506126403809 sec\n",
      "\n",
      "Epoch 27 Batch 0 Loss 0.0763\n",
      "Epoch 27 Batch 100 Loss 0.0432\n",
      "Epoch 27 Batch 200 Loss 0.0297\n",
      "Epoch 27 Batch 300 Loss 0.0399\n",
      "Epoch 27 Batch 400 Loss 0.0431\n",
      "Epoch 27 Batch 500 Loss 0.0474\n",
      "Epoch 27 Batch 600 Loss 0.0520\n",
      "Epoch 27 Batch 700 Loss 0.0769\n",
      "Epoch 27 Batch 800 Loss 0.0642\n",
      "Epoch 27 Batch 900 Loss 0.0581\n",
      "Epoch 27 Batch 1000 Loss 0.0505\n",
      "Epoch 27 Batch 1100 Loss 0.0766\n",
      "Epoch 27 Batch 1200 Loss 0.0721\n",
      "Epoch 27 Loss 0.0606\n",
      "Time taken for 1 epoch 679.1984856128693 sec\n",
      "\n",
      "Epoch 28 Batch 0 Loss 0.0458\n",
      "Epoch 28 Batch 100 Loss 0.0563\n",
      "Epoch 28 Batch 200 Loss 0.0294\n",
      "Epoch 28 Batch 300 Loss 0.0880\n",
      "Epoch 28 Batch 400 Loss 0.0452\n",
      "Epoch 28 Batch 500 Loss 0.0541\n",
      "Epoch 28 Batch 600 Loss 0.0508\n",
      "Epoch 28 Batch 700 Loss 0.0462\n",
      "Epoch 28 Batch 800 Loss 0.0758\n",
      "Epoch 28 Batch 900 Loss 0.0560\n",
      "Epoch 28 Batch 1000 Loss 0.0594\n",
      "Epoch 28 Batch 1100 Loss 0.0502\n",
      "Epoch 28 Batch 1200 Loss 0.0449\n",
      "Epoch 28 Loss 0.0605\n",
      "Time taken for 1 epoch 682.4175889492035 sec\n",
      "\n",
      "Epoch 29 Batch 0 Loss 0.0314\n",
      "Epoch 29 Batch 100 Loss 0.0561\n",
      "Epoch 29 Batch 200 Loss 0.0487\n",
      "Epoch 29 Batch 300 Loss 0.0654\n",
      "Epoch 29 Batch 400 Loss 0.0561\n",
      "Epoch 29 Batch 500 Loss 0.0527\n",
      "Epoch 29 Batch 600 Loss 0.0810\n",
      "Epoch 29 Batch 700 Loss 0.0459\n",
      "Epoch 29 Batch 800 Loss 0.0424\n",
      "Epoch 29 Batch 900 Loss 0.0724\n",
      "Epoch 29 Batch 1000 Loss 0.0619\n",
      "Epoch 29 Batch 1100 Loss 0.0487\n",
      "Epoch 29 Batch 1200 Loss 0.0461\n",
      "Epoch 29 Loss 0.0592\n",
      "Time taken for 1 epoch 681.0004527568817 sec\n",
      "\n",
      "Epoch 30 Batch 0 Loss 0.0346\n",
      "Epoch 30 Batch 100 Loss 0.0517\n",
      "Epoch 30 Batch 200 Loss 0.0467\n",
      "Epoch 30 Batch 300 Loss 0.0648\n",
      "Epoch 30 Batch 400 Loss 0.0371\n",
      "Epoch 30 Batch 500 Loss 0.0836\n",
      "Epoch 30 Batch 600 Loss 0.0652\n",
      "Epoch 30 Batch 700 Loss 0.0886\n",
      "Epoch 30 Batch 800 Loss 0.0335\n",
      "Epoch 30 Batch 900 Loss 0.0898\n",
      "Epoch 30 Batch 1000 Loss 0.1049\n",
      "Epoch 30 Batch 1100 Loss 0.0998\n",
      "Epoch 30 Batch 1200 Loss 0.0730\n",
      "Epoch 30 Loss 0.0581\n",
      "Time taken for 1 epoch 679.5632872581482 sec\n",
      "\n",
      "Epoch 31 Batch 0 Loss 0.0275\n",
      "Epoch 31 Batch 100 Loss 0.0471\n",
      "Epoch 31 Batch 200 Loss 0.0559\n",
      "Epoch 31 Batch 300 Loss 0.0567\n",
      "Epoch 31 Batch 400 Loss 0.0361\n",
      "Epoch 31 Batch 500 Loss 0.0602\n",
      "Epoch 31 Batch 600 Loss 0.0694\n",
      "Epoch 31 Batch 700 Loss 0.0627\n",
      "Epoch 31 Batch 800 Loss 0.0448\n",
      "Epoch 31 Batch 900 Loss 0.0602\n",
      "Epoch 31 Batch 1000 Loss 0.0720\n",
      "Epoch 31 Batch 1100 Loss 0.0603\n",
      "Epoch 31 Batch 1200 Loss 0.0541\n",
      "Epoch 31 Loss 0.0573\n",
      "Time taken for 1 epoch 680.1183426380157 sec\n",
      "\n",
      "Epoch 32 Batch 0 Loss 0.0511\n",
      "Epoch 32 Batch 100 Loss 0.0248\n",
      "Epoch 32 Batch 200 Loss 0.0424\n",
      "Epoch 32 Batch 300 Loss 0.0686\n",
      "Epoch 32 Batch 400 Loss 0.0723\n",
      "Epoch 32 Batch 500 Loss 0.0445\n",
      "Epoch 32 Batch 600 Loss 0.0845\n",
      "Epoch 32 Batch 700 Loss 0.1017\n",
      "Epoch 32 Batch 800 Loss 0.0355\n",
      "Epoch 32 Batch 900 Loss 0.0496\n",
      "Epoch 32 Batch 1000 Loss 0.0433\n",
      "Epoch 32 Batch 1100 Loss 0.0839\n",
      "Epoch 32 Batch 1200 Loss 0.0606\n",
      "Epoch 32 Loss 0.0569\n",
      "Time taken for 1 epoch 680.0245883464813 sec\n",
      "\n",
      "Epoch 33 Batch 0 Loss 0.0429\n",
      "Epoch 33 Batch 100 Loss 0.0139\n",
      "Epoch 33 Batch 200 Loss 0.0891\n",
      "Epoch 33 Batch 300 Loss 0.0484\n",
      "Epoch 33 Batch 400 Loss 0.0708\n",
      "Epoch 33 Batch 500 Loss 0.0384\n",
      "Epoch 33 Batch 600 Loss 0.0592\n",
      "Epoch 33 Batch 700 Loss 0.0469\n",
      "Epoch 33 Batch 800 Loss 0.0620\n",
      "Epoch 33 Batch 900 Loss 0.0668\n",
      "Epoch 33 Batch 1000 Loss 0.0590\n",
      "Epoch 33 Batch 1100 Loss 0.0588\n",
      "Epoch 33 Batch 1200 Loss 0.0906\n",
      "Epoch 33 Loss 0.0564\n",
      "Time taken for 1 epoch 678.1753551959991 sec\n",
      "\n",
      "Epoch 34 Batch 0 Loss 0.0489\n",
      "Epoch 34 Batch 100 Loss 0.0296\n",
      "Epoch 34 Batch 200 Loss 0.0799\n",
      "Epoch 34 Batch 300 Loss 0.0355\n",
      "Epoch 34 Batch 400 Loss 0.0426\n",
      "Epoch 34 Batch 500 Loss 0.0578\n",
      "Epoch 34 Batch 600 Loss 0.0433\n",
      "Epoch 34 Batch 700 Loss 0.0590\n",
      "Epoch 34 Batch 800 Loss 0.0472\n",
      "Epoch 34 Batch 900 Loss 0.0517\n",
      "Epoch 34 Batch 1000 Loss 0.0496\n",
      "Epoch 34 Batch 1100 Loss 0.0603\n",
      "Epoch 34 Batch 1200 Loss 0.0451\n",
      "Epoch 34 Loss 0.0559\n",
      "Time taken for 1 epoch 679.1491968631744 sec\n",
      "\n",
      "Epoch 35 Batch 0 Loss 0.0269\n",
      "Epoch 35 Batch 100 Loss 0.0695\n",
      "Epoch 35 Batch 200 Loss 0.0513\n",
      "Epoch 35 Batch 300 Loss 0.0319\n",
      "Epoch 35 Batch 400 Loss 0.0744\n",
      "Epoch 35 Batch 500 Loss 0.0495\n",
      "Epoch 35 Batch 600 Loss 0.0601\n",
      "Epoch 35 Batch 700 Loss 0.0843\n",
      "Epoch 35 Batch 800 Loss 0.0769\n",
      "Epoch 35 Batch 900 Loss 0.0462\n",
      "Epoch 35 Batch 1000 Loss 0.0607\n",
      "Epoch 35 Batch 1100 Loss 0.0544\n",
      "Epoch 35 Batch 1200 Loss 0.0522\n",
      "Epoch 35 Loss 0.0549\n",
      "Time taken for 1 epoch 675.897159576416 sec\n",
      "\n",
      "Epoch 36 Batch 0 Loss 0.0788\n",
      "Epoch 36 Batch 100 Loss 0.0364\n"
     ]
    },
    {
     "name": "stdout",
     "output_type": "stream",
     "text": [
      "Epoch 36 Batch 200 Loss 0.0451\n",
      "Epoch 36 Batch 300 Loss 0.0389\n",
      "Epoch 36 Batch 400 Loss 0.0778\n",
      "Epoch 36 Batch 500 Loss 0.0359\n",
      "Epoch 36 Batch 600 Loss 0.0370\n",
      "Epoch 36 Batch 700 Loss 0.1105\n",
      "Epoch 36 Batch 800 Loss 0.0722\n",
      "Epoch 36 Batch 900 Loss 0.0887\n",
      "Epoch 36 Batch 1000 Loss 0.0535\n",
      "Epoch 36 Batch 1100 Loss 0.0544\n",
      "Epoch 36 Batch 1200 Loss 0.0440\n",
      "Epoch 36 Loss 0.0539\n",
      "Time taken for 1 epoch 699.8970670700073 sec\n",
      "\n",
      "Epoch 37 Batch 0 Loss 0.0629\n",
      "Epoch 37 Batch 100 Loss 0.0223\n",
      "Epoch 37 Batch 200 Loss 0.0424\n",
      "Epoch 37 Batch 300 Loss 0.0725\n",
      "Epoch 37 Batch 400 Loss 0.0798\n",
      "Epoch 37 Batch 500 Loss 0.0809\n",
      "Epoch 37 Batch 600 Loss 0.0410\n",
      "Epoch 37 Batch 700 Loss 0.0634\n",
      "Epoch 37 Batch 800 Loss 0.0343\n",
      "Epoch 37 Batch 900 Loss 0.0703\n",
      "Epoch 37 Batch 1000 Loss 0.0809\n",
      "Epoch 37 Batch 1100 Loss 0.0794\n",
      "Epoch 37 Batch 1200 Loss 0.0585\n",
      "Epoch 37 Loss 0.0540\n",
      "Time taken for 1 epoch 677.2793025970459 sec\n",
      "\n",
      "Epoch 38 Batch 0 Loss 0.0251\n",
      "Epoch 38 Batch 100 Loss 0.0425\n",
      "Epoch 38 Batch 200 Loss 0.0489\n",
      "Epoch 38 Batch 300 Loss 0.0369\n",
      "Epoch 38 Batch 400 Loss 0.0441\n",
      "Epoch 38 Batch 500 Loss 0.0341\n",
      "Epoch 38 Batch 600 Loss 0.0604\n",
      "Epoch 38 Batch 700 Loss 0.0687\n",
      "Epoch 38 Batch 800 Loss 0.0512\n",
      "Epoch 38 Batch 900 Loss 0.0334\n",
      "Epoch 38 Batch 1000 Loss 0.0803\n",
      "Epoch 38 Batch 1100 Loss 0.0958\n",
      "Epoch 38 Batch 1200 Loss 0.0841\n",
      "Epoch 38 Loss 0.0532\n",
      "Time taken for 1 epoch 675.6233263015747 sec\n",
      "\n",
      "Epoch 39 Batch 0 Loss 0.0271\n",
      "Epoch 39 Batch 100 Loss 0.0584\n",
      "Epoch 39 Batch 200 Loss 0.0790\n",
      "Epoch 39 Batch 300 Loss 0.0705\n",
      "Epoch 39 Batch 400 Loss 0.0671\n",
      "Epoch 39 Batch 500 Loss 0.0390\n",
      "Epoch 39 Batch 600 Loss 0.0630\n",
      "Epoch 39 Batch 700 Loss 0.0480\n",
      "Epoch 39 Batch 800 Loss 0.0373\n",
      "Epoch 39 Batch 900 Loss 0.0526\n",
      "Epoch 39 Batch 1000 Loss 0.0688\n",
      "Epoch 39 Batch 1100 Loss 0.0639\n",
      "Epoch 39 Batch 1200 Loss 0.0720\n",
      "Epoch 39 Loss 0.0526\n",
      "Time taken for 1 epoch 676.7254161834717 sec\n",
      "\n",
      "Epoch 40 Batch 0 Loss 0.0358\n",
      "Epoch 40 Batch 100 Loss 0.0561\n",
      "Epoch 40 Batch 200 Loss 0.0343\n",
      "Epoch 40 Batch 300 Loss 0.0941\n",
      "Epoch 40 Batch 400 Loss 0.0329\n",
      "Epoch 40 Batch 500 Loss 0.0449\n",
      "Epoch 40 Batch 600 Loss 0.0813\n",
      "Epoch 40 Batch 700 Loss 0.0425\n",
      "Epoch 40 Batch 800 Loss 0.0388\n",
      "Epoch 40 Batch 900 Loss 0.0475\n",
      "Epoch 40 Batch 1000 Loss 0.0607\n",
      "Epoch 40 Batch 1100 Loss 0.0510\n",
      "Epoch 40 Batch 1200 Loss 0.0938\n",
      "Epoch 40 Loss 0.0520\n",
      "Time taken for 1 epoch 678.751624584198 sec\n",
      "\n",
      "Epoch 41 Batch 0 Loss 0.0369\n",
      "Epoch 41 Batch 100 Loss 0.0502\n",
      "Epoch 41 Batch 200 Loss 0.0210\n",
      "Epoch 41 Batch 300 Loss 0.0271\n",
      "Epoch 41 Batch 400 Loss 0.0596\n",
      "Epoch 41 Batch 500 Loss 0.0371\n",
      "Epoch 41 Batch 600 Loss 0.0319\n",
      "Epoch 41 Batch 700 Loss 0.0910\n",
      "Epoch 41 Batch 800 Loss 0.0650\n",
      "Epoch 41 Batch 900 Loss 0.1060\n",
      "Epoch 41 Batch 1000 Loss 0.0533\n",
      "Epoch 41 Batch 1100 Loss 0.0534\n",
      "Epoch 41 Batch 1200 Loss 0.0492\n",
      "Epoch 41 Loss 0.0514\n",
      "Time taken for 1 epoch 675.3860709667206 sec\n",
      "\n",
      "Epoch 42 Batch 0 Loss 0.0198\n",
      "Epoch 42 Batch 100 Loss 0.0265\n",
      "Epoch 42 Batch 200 Loss 0.0494\n",
      "Epoch 42 Batch 300 Loss 0.0631\n",
      "Epoch 42 Batch 400 Loss 0.0345\n",
      "Epoch 42 Batch 500 Loss 0.0257\n",
      "Epoch 42 Batch 600 Loss 0.0730\n",
      "Epoch 42 Batch 700 Loss 0.0555\n",
      "Epoch 42 Batch 800 Loss 0.0325\n",
      "Epoch 42 Batch 900 Loss 0.0482\n",
      "Epoch 42 Batch 1000 Loss 0.0533\n",
      "Epoch 42 Batch 1100 Loss 0.0479\n",
      "Epoch 42 Batch 1200 Loss 0.0613\n",
      "Epoch 42 Loss 0.0513\n",
      "Time taken for 1 epoch 679.0242037773132 sec\n",
      "\n",
      "Epoch 43 Batch 0 Loss 0.0357\n",
      "Epoch 43 Batch 100 Loss 0.0251\n",
      "Epoch 43 Batch 200 Loss 0.0442\n",
      "Epoch 43 Batch 300 Loss 0.0459\n",
      "Epoch 43 Batch 400 Loss 0.0519\n",
      "Epoch 43 Batch 500 Loss 0.0402\n",
      "Epoch 43 Batch 600 Loss 0.0685\n",
      "Epoch 43 Batch 700 Loss 0.0533\n",
      "Epoch 43 Batch 800 Loss 0.0654\n",
      "Epoch 43 Batch 900 Loss 0.0523\n",
      "Epoch 43 Batch 1000 Loss 0.0774\n",
      "Epoch 43 Batch 1100 Loss 0.0519\n",
      "Epoch 43 Batch 1200 Loss 0.0784\n",
      "Epoch 43 Loss 0.0503\n",
      "Time taken for 1 epoch 671.6543588638306 sec\n",
      "\n",
      "Epoch 44 Batch 0 Loss 0.0366\n",
      "Epoch 44 Batch 100 Loss 0.0490\n",
      "Epoch 44 Batch 200 Loss 0.0329\n",
      "Epoch 44 Batch 300 Loss 0.0470\n",
      "Epoch 44 Batch 400 Loss 0.0193\n",
      "Epoch 44 Batch 500 Loss 0.0357\n",
      "Epoch 44 Batch 600 Loss 0.0852\n",
      "Epoch 44 Batch 700 Loss 0.0445\n",
      "Epoch 44 Batch 800 Loss 0.0680\n",
      "Epoch 44 Batch 900 Loss 0.0562\n",
      "Epoch 44 Batch 1000 Loss 0.0419\n",
      "Epoch 44 Batch 1100 Loss 0.0537\n",
      "Epoch 44 Batch 1200 Loss 0.0867\n",
      "Epoch 44 Loss 0.0506\n",
      "Time taken for 1 epoch 670.3367307186127 sec\n",
      "\n",
      "Epoch 45 Batch 0 Loss 0.0465\n",
      "Epoch 45 Batch 100 Loss 0.0417\n",
      "Epoch 45 Batch 200 Loss 0.0284\n",
      "Epoch 45 Batch 300 Loss 0.0331\n",
      "Epoch 45 Batch 400 Loss 0.0505\n",
      "Epoch 45 Batch 500 Loss 0.0543\n",
      "Epoch 45 Batch 600 Loss 0.0352\n",
      "Epoch 45 Batch 700 Loss 0.0520\n",
      "Epoch 45 Batch 800 Loss 0.0497\n",
      "Epoch 45 Batch 900 Loss 0.0708\n",
      "Epoch 45 Batch 1000 Loss 0.0770\n",
      "Epoch 45 Batch 1100 Loss 0.0616\n",
      "Epoch 45 Batch 1200 Loss 0.0506\n",
      "Epoch 45 Loss 0.0497\n",
      "Time taken for 1 epoch 673.6733703613281 sec\n",
      "\n",
      "Epoch 46 Batch 0 Loss 0.0623\n",
      "Epoch 46 Batch 100 Loss 0.0233\n",
      "Epoch 46 Batch 200 Loss 0.0380\n",
      "Epoch 46 Batch 300 Loss 0.0675\n",
      "Epoch 46 Batch 400 Loss 0.0631\n",
      "Epoch 46 Batch 500 Loss 0.0777\n",
      "Epoch 46 Batch 600 Loss 0.0602\n",
      "Epoch 46 Batch 700 Loss 0.0597\n",
      "Epoch 46 Batch 800 Loss 0.0511\n",
      "Epoch 46 Batch 900 Loss 0.0427\n",
      "Epoch 46 Batch 1000 Loss 0.0846\n",
      "Epoch 46 Batch 1100 Loss 0.0437\n",
      "Epoch 46 Batch 1200 Loss 0.0427\n",
      "Epoch 46 Loss 0.0489\n",
      "Time taken for 1 epoch 677.2668917179108 sec\n",
      "\n",
      "Epoch 47 Batch 0 Loss 0.0283\n",
      "Epoch 47 Batch 100 Loss 0.0346\n",
      "Epoch 47 Batch 200 Loss 0.0577\n",
      "Epoch 47 Batch 300 Loss 0.0340\n",
      "Epoch 47 Batch 400 Loss 0.0441\n",
      "Epoch 47 Batch 500 Loss 0.0238\n",
      "Epoch 47 Batch 600 Loss 0.0190\n",
      "Epoch 47 Batch 700 Loss 0.0499\n",
      "Epoch 47 Batch 800 Loss 0.0355\n",
      "Epoch 47 Batch 900 Loss 0.0647\n",
      "Epoch 47 Batch 1000 Loss 0.0808\n",
      "Epoch 47 Batch 1100 Loss 0.0805\n",
      "Epoch 47 Batch 1200 Loss 0.0448\n",
      "Epoch 47 Loss 0.0494\n",
      "Time taken for 1 epoch 684.7215740680695 sec\n",
      "\n",
      "Epoch 48 Batch 0 Loss 0.0339\n",
      "Epoch 48 Batch 100 Loss 0.0371\n",
      "Epoch 48 Batch 200 Loss 0.0176\n",
      "Epoch 48 Batch 300 Loss 0.0426\n",
      "Epoch 48 Batch 400 Loss 0.0645\n",
      "Epoch 48 Batch 500 Loss 0.0269\n",
      "Epoch 48 Batch 600 Loss 0.0423\n",
      "Epoch 48 Batch 700 Loss 0.0490\n",
      "Epoch 48 Batch 800 Loss 0.0839\n",
      "Epoch 48 Batch 900 Loss 0.0397\n",
      "Epoch 48 Batch 1000 Loss 0.0576\n",
      "Epoch 48 Batch 1100 Loss 0.0483\n",
      "Epoch 48 Batch 1200 Loss 0.0809\n",
      "Epoch 48 Loss 0.0486\n",
      "Time taken for 1 epoch 683.5097625255585 sec\n",
      "\n",
      "Epoch 49 Batch 0 Loss 0.0279\n",
      "Epoch 49 Batch 100 Loss 0.0722\n",
      "Epoch 49 Batch 200 Loss 0.0266\n",
      "Epoch 49 Batch 300 Loss 0.0541\n",
      "Epoch 49 Batch 400 Loss 0.0558\n",
      "Epoch 49 Batch 500 Loss 0.0561\n",
      "Epoch 49 Batch 600 Loss 0.0871\n",
      "Epoch 49 Batch 700 Loss 0.0336\n",
      "Epoch 49 Batch 800 Loss 0.0655\n",
      "Epoch 49 Batch 900 Loss 0.0455\n",
      "Epoch 49 Batch 1000 Loss 0.0574\n",
      "Epoch 49 Batch 1100 Loss 0.0632\n",
      "Epoch 49 Batch 1200 Loss 0.0499\n",
      "Epoch 49 Loss 0.0484\n",
      "Time taken for 1 epoch 678.5828638076782 sec\n",
      "\n",
      "Epoch 50 Batch 0 Loss 0.0386\n",
      "Epoch 50 Batch 100 Loss 0.0367\n",
      "Epoch 50 Batch 200 Loss 0.0341\n",
      "Epoch 50 Batch 300 Loss 0.0322\n",
      "Epoch 50 Batch 400 Loss 0.0727\n",
      "Epoch 50 Batch 500 Loss 0.0381\n",
      "Epoch 50 Batch 600 Loss 0.0373\n",
      "Epoch 50 Batch 700 Loss 0.0683\n",
      "Epoch 50 Batch 800 Loss 0.0628\n",
      "Epoch 50 Batch 900 Loss 0.0250\n",
      "Epoch 50 Batch 1000 Loss 0.0347\n",
      "Epoch 50 Batch 1100 Loss 0.0264\n",
      "Epoch 50 Batch 1200 Loss 0.0555\n",
      "Epoch 50 Loss 0.0477\n",
      "Time taken for 1 epoch 680.8704702854156 sec\n",
      "\n"
     ]
    }
   ],
   "source": [
    "EPOCHS = 50\n",
    "\n",
    "for epoch in range(EPOCHS):\n",
    "  start = time.time()\n",
    "\n",
    "  enc_hidden = encoder.initialize_hidden_state()\n",
    "  total_loss = 0\n",
    "\n",
    "  for (batch, (inp, targ)) in enumerate(dataset.take(steps_per_epoch)):\n",
    "    batch_loss = train_step(inp, targ, enc_hidden)\n",
    "    total_loss += batch_loss\n",
    "\n",
    "    if batch % 100 == 0:\n",
    "      print('Epoch {} Batch {} Loss {:.4f}'.format(epoch + 1,\n",
    "                                                   batch,\n",
    "                                                   batch_loss.numpy()))\n",
    "  # saving (checkpoint) the model every 2 epochs\n",
    "  if (epoch + 1) % 2 == 0:\n",
    "    checkpoint.save(file_prefix = checkpoint_prefix)\n",
    "\n",
    "  print('Epoch {} Loss {:.4f}'.format(epoch + 1,\n",
    "                                      total_loss / steps_per_epoch))\n",
    "  print('Time taken for 1 epoch {} sec\\n'.format(time.time() - start))"
   ]
  },
  {
   "cell_type": "markdown",
   "metadata": {
    "id": "mU3Ce8M6I3rz"
   },
   "source": [
    "## Translate\n",
    "\n",
    "* The evaluate function is similar to the training loop, except we don't use *teacher forcing* here. The input to the decoder at each time step is its previous predictions along with the hidden state and the encoder output.\n",
    "* Stop predicting when the model predicts the *end token*.\n",
    "* And store the *attention weights for every time step*.\n",
    "\n",
    "Note: The encoder output is calculated only once for one input."
   ]
  },
  {
   "cell_type": "code",
   "execution_count": 42,
   "metadata": {
    "id": "EbQpyYs13jF_"
   },
   "outputs": [],
   "source": [
    "def evaluate(sentence):\n",
    "  attention_plot = np.zeros((max_length_targ, max_length_inp))\n",
    "\n",
    "  sentence = preprocess_sentence(sentence)\n",
    "\n",
    "  inputs = [inp_lang.word_index[i] for i in sentence.split(' ')]\n",
    "  inputs = tf.keras.preprocessing.sequence.pad_sequences([inputs],\n",
    "                                                         maxlen=max_length_inp,\n",
    "                                                         padding='post')\n",
    "  inputs = tf.convert_to_tensor(inputs)\n",
    "\n",
    "  result = ''\n",
    "\n",
    "  hidden = [tf.zeros((1, units))]\n",
    "  enc_hidden = encoder(inputs, hidden)\n",
    "\n",
    "  dec_hidden = enc_hidden\n",
    "  dec_input = tf.expand_dims([targ_lang.word_index['<start>']], 0)\n",
    "\n",
    "  for t in range(max_length_targ):\n",
    "    predictions, dec_hidden = decoder(dec_input, dec_hidden)\n",
    "\n",
    "    # storing the attention weights to plot later on\n",
    "    predicted_id = tf.argmax(predictions[0]).numpy()\n",
    "    result += targ_lang.index_word[predicted_id] + ' '\n",
    "\n",
    "    if targ_lang.index_word[predicted_id] == '<end>':\n",
    "      return result, sentence\n",
    "\n",
    "    # the predicted ID is fed back into the model\n",
    "    dec_input = tf.expand_dims([predicted_id], 0)\n",
    "\n",
    "  return result, sentence"
   ]
  },
  {
   "cell_type": "code",
   "execution_count": 43,
   "metadata": {
    "id": "sl9zUHzg3jGI"
   },
   "outputs": [],
   "source": [
    "def translate(sentence):\n",
    "  result, sentence = evaluate(sentence)\n",
    "\n",
    "  print('Input: %s' % (sentence))\n",
    "  print('Predicted translation: {}'.format(result))"
   ]
  },
  {
   "cell_type": "markdown",
   "metadata": {
    "id": "n250XbnjOaqP"
   },
   "source": [
    "## Restore the latest checkpoint and test"
   ]
  },
  {
   "cell_type": "code",
   "execution_count": 44,
   "metadata": {
    "colab": {
     "base_uri": "https://localhost:8080/"
    },
    "executionInfo": {
     "elapsed": 891,
     "status": "ok",
     "timestamp": 1608145599781,
     "user": {
      "displayName": "Roman Zakharov",
      "photoUrl": "",
      "userId": "18255168926005506833"
     },
     "user_tz": -180
    },
    "id": "UJpT9D5_OgP6",
    "outputId": "a5bf709a-7e66-4fd8-aca9-777497144965"
   },
   "outputs": [
    {
     "data": {
      "text/plain": [
       "<tensorflow.python.training.tracking.util.CheckpointLoadStatus at 0x25e9306f310>"
      ]
     },
     "execution_count": 44,
     "metadata": {},
     "output_type": "execute_result"
    }
   ],
   "source": [
    "# restoring the latest checkpoint in checkpoint_dir\n",
    "checkpoint.restore(tf.train.latest_checkpoint(checkpoint_dir))"
   ]
  },
  {
   "cell_type": "code",
   "execution_count": 45,
   "metadata": {
    "colab": {
     "base_uri": "https://localhost:8080/"
    },
    "executionInfo": {
     "elapsed": 985,
     "status": "ok",
     "timestamp": 1619808753710,
     "user": {
      "displayName": "Roman Zakharov",
      "photoUrl": "",
      "userId": "18255168926005506833"
     },
     "user_tz": -180
    },
    "id": "WrAM0FDomq3E",
    "outputId": "d366d6cc-cc03-4e35-a65a-9d06dcbfff36"
   },
   "outputs": [
    {
     "name": "stdout",
     "output_type": "stream",
     "text": [
      "Input: <start> здесь хорошо . <end>\n",
      "Predicted translation: it's here here . <end> \n"
     ]
    }
   ],
   "source": [
    "translate('Здесь хорошо.')"
   ]
  },
  {
   "cell_type": "code",
   "execution_count": 46,
   "metadata": {
    "colab": {
     "base_uri": "https://localhost:8080/"
    },
    "executionInfo": {
     "elapsed": 794,
     "status": "ok",
     "timestamp": 1619808761495,
     "user": {
      "displayName": "Roman Zakharov",
      "photoUrl": "",
      "userId": "18255168926005506833"
     },
     "user_tz": -180
    },
    "id": "5bhFfwcIMX5i",
    "outputId": "f89a2d14-a72b-4477-9d76-36837baaefff"
   },
   "outputs": [
    {
     "name": "stdout",
     "output_type": "stream",
     "text": [
      "Input: <start> я не смогу поехать . <end>\n",
      "Predicted translation: i can't go . <end> \n"
     ]
    }
   ],
   "source": [
    "translate('Я не смогу поехать.')"
   ]
  },
  {
   "cell_type": "code",
   "execution_count": 47,
   "metadata": {
    "colab": {
     "base_uri": "https://localhost:8080/"
    },
    "executionInfo": {
     "elapsed": 818,
     "status": "ok",
     "timestamp": 1619808768959,
     "user": {
      "displayName": "Roman Zakharov",
      "photoUrl": "",
      "userId": "18255168926005506833"
     },
     "user_tz": -180
    },
    "id": "zSx2iM36EZQZ",
    "outputId": "42bc96b4-37c0-439f-fff9-224fdc58c527"
   },
   "outputs": [
    {
     "name": "stdout",
     "output_type": "stream",
     "text": [
      "Input: <start> вы еще дома ? <end>\n",
      "Predicted translation: are you still at home ? <end> \n"
     ]
    }
   ],
   "source": [
    "translate(u'Вы еще дома?')"
   ]
  },
  {
   "cell_type": "code",
   "execution_count": 48,
   "metadata": {
    "colab": {
     "base_uri": "https://localhost:8080/"
    },
    "id": "A3LLCx3ZE0Ls",
    "outputId": "b64aa087-8232-474e-e3c7-98c186081845"
   },
   "outputs": [
    {
     "name": "stdout",
     "output_type": "stream",
     "text": [
      "Input: <start> вы все еще дома ? <end>\n",
      "Predicted translation: are you still at home ? <end> \n"
     ]
    }
   ],
   "source": [
    "translate(u'Вы все еще дома?')"
   ]
  },
  {
   "cell_type": "code",
   "execution_count": 49,
   "metadata": {
    "colab": {
     "base_uri": "https://localhost:8080/"
    },
    "executionInfo": {
     "elapsed": 799,
     "status": "ok",
     "timestamp": 1619808777901,
     "user": {
      "displayName": "Roman Zakharov",
      "photoUrl": "",
      "userId": "18255168926005506833"
     },
     "user_tz": -180
    },
    "id": "DUQVLVqUE1YW",
    "outputId": "6d768ecc-e145-4a4a-b313-0986c44bc1cc"
   },
   "outputs": [
    {
     "name": "stdout",
     "output_type": "stream",
     "text": [
      "Input: <start> попробуй сделать это . <end>\n",
      "Predicted translation: try and do it . <end> \n"
     ]
    }
   ],
   "source": [
    "translate(u'Попробуй сделать это.')"
   ]
  },
  {
   "cell_type": "code",
   "execution_count": 50,
   "metadata": {
    "colab": {
     "base_uri": "https://localhost:8080/"
    },
    "executionInfo": {
     "elapsed": 815,
     "status": "ok",
     "timestamp": 1619808783771,
     "user": {
      "displayName": "Roman Zakharov",
      "photoUrl": "",
      "userId": "18255168926005506833"
     },
     "user_tz": -180
    },
    "id": "f09_hUFx9EJh",
    "outputId": "73980799-f0f9-4ff5-835c-ced55d9a4770"
   },
   "outputs": [
    {
     "name": "stdout",
     "output_type": "stream",
     "text": [
      "Input: <start> я люблю , когда идет снег . <end>\n",
      "Predicted translation: i like playing silk . <end> \n"
     ]
    }
   ],
   "source": [
    "translate(u'Я люблю, когда идет снег.')"
   ]
  },
  {
   "cell_type": "code",
   "execution_count": 51,
   "metadata": {
    "colab": {
     "base_uri": "https://localhost:8080/"
    },
    "id": "e7c5p8rmkHQG",
    "outputId": "d4682d71-f778-41f5-e4a9-2e1235976123"
   },
   "outputs": [
    {
     "name": "stdout",
     "output_type": "stream",
     "text": [
      "Input: <start> я никогда такого не делаю . <end>\n",
      "Predicted translation: i never do that . <end> \n"
     ]
    }
   ],
   "source": [
    "translate(u'Я никогда такого не делаю.')"
   ]
  },
  {
   "cell_type": "code",
   "execution_count": null,
   "metadata": {
    "id": "jdXES85KkTVS"
   },
   "outputs": [],
   "source": []
  }
 ],
 "metadata": {
  "accelerator": "GPU",
  "colab": {
   "collapsed_sections": [],
   "name": "nmt.ipynb",
   "provenance": []
  },
  "kernelspec": {
   "display_name": "Python 3",
   "language": "python",
   "name": "python3"
  },
  "language_info": {
   "codemirror_mode": {
    "name": "ipython",
    "version": 3
   },
   "file_extension": ".py",
   "mimetype": "text/x-python",
   "name": "python",
   "nbconvert_exporter": "python",
   "pygments_lexer": "ipython3",
   "version": "3.8.6"
  }
 },
 "nbformat": 4,
 "nbformat_minor": 1
}
